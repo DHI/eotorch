{
 "cells": [
  {
   "cell_type": "code",
   "execution_count": 8,
   "metadata": {},
   "outputs": [],
   "source": [
    "%reload_ext autoreload\n",
    "%autoreload 2\n",
    "from pathlib import Path\n",
    "\n",
    "import rasterio as rst\n",
    "from lightning.pytorch import Trainer\n",
    "\n",
    "from eotorch.data import (\n",
    "    SegmentationDataModule,\n",
    "    SemanticSegmentationTask,\n",
    "    get_segmentation_dataset,\n",
    ")\n",
    "from eotorch.plot import plot_samples\n",
    "from eotorch.processing import normalize\n",
    "\n",
    "class_mapping = {\n",
    "    1: \"Baresoil\",\n",
    "    2: \"Buildings\",\n",
    "    3: \"Coniferous Trees\",\n",
    "    4: \"Deciduous Trees\",\n",
    "    5: \"Grass\",\n",
    "    6: \"Impervious\",\n",
    "    7: \"Water\",\n",
    "}"
   ]
  },
  {
   "cell_type": "code",
   "execution_count": null,
   "metadata": {},
   "outputs": [],
   "source": [
    "# normalization example for single file\n",
    "out_path = normalize(img_path=\"dev_data/sr_data/31TFL/20230711.tif\", limits=(0.5, 99.5))"
   ]
  },
  {
   "cell_type": "code",
   "execution_count": null,
   "metadata": {},
   "outputs": [],
   "source": [
    "ds = get_segmentation_dataset(\n",
    "    images_dir=\"dev_data/sr_data\",\n",
    "    image_glob=\"*norm.tif\",\n",
    "    labels_dir=\"dev_data/labels\",\n",
    "    all_image_bands=(\"B02\", \"B03\", \"B04\", \"B08\", \"B11\", \"B12\"),\n",
    "    rgb_bands=(\"B04\", \"B03\", \"B02\"),\n",
    "    class_mapping=class_mapping,\n",
    "    reduce_zero_label=True,\n",
    ")\n",
    "plot_samples(ds, n=2, patch_size=256)\n"
   ]
  },
  {
   "cell_type": "code",
   "execution_count": 3,
   "metadata": {},
   "outputs": [],
   "source": [
    "module = SegmentationDataModule(\n",
    "    dataset=ds,\n",
    "    # batch_size=8,\n",
    "    patch_size=256,\n",
    "    num_workers=4,\n",
    ")"
   ]
  },
  {
   "cell_type": "code",
   "execution_count": null,
   "metadata": {},
   "outputs": [],
   "source": [
    "task = SemanticSegmentationTask(\n",
    "    model=\"deepresunet\",\n",
    "    in_channels=6,\n",
    "    num_classes=len(class_mapping),\n",
    "    loss=\"ce\",\n",
    "    ignore_index=-1,  # because reduce_zero_label=True\n",
    ")\n",
    "# trainer = Trainer()\n",
    "trainer = Trainer(num_sanity_val_steps=-1)\n",
    "\n",
    "trainer.fit(model=task, datamodule=module)"
   ]
  }
 ],
 "metadata": {
  "kernelspec": {
   "display_name": ".venv",
   "language": "python",
   "name": "python3"
  },
  "language_info": {
   "codemirror_mode": {
    "name": "ipython",
    "version": 3
   },
   "file_extension": ".py",
   "mimetype": "text/x-python",
   "name": "python",
   "nbconvert_exporter": "python",
   "pygments_lexer": "ipython3",
   "version": "3.13.0"
  }
 },
 "nbformat": 4,
 "nbformat_minor": 2
}
